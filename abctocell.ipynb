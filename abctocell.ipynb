{
  "nbformat": 4,
  "nbformat_minor": 0,
  "metadata": {
    "colab": {
      "name": "abctocell.ipynb",
      "provenance": [],
      "authorship_tag": "ABX9TyNExX47AresOP4zwYznY2Vd",
      "include_colab_link": true
    },
    "kernelspec": {
      "name": "python3",
      "display_name": "Python 3"
    }
  },
  "cells": [
    {
      "cell_type": "markdown",
      "metadata": {
        "id": "view-in-github",
        "colab_type": "text"
      },
      "source": [
        "<a href=\"https://colab.research.google.com/github/AnoopANair/python_code_snippets/blob/main/abctocell.ipynb\" target=\"_parent\"><img src=\"https://colab.research.google.com/assets/colab-badge.svg\" alt=\"Open In Colab\"/></a>"
      ]
    },
    {
      "cell_type": "code",
      "metadata": {
        "id": "bvZ3Xe4Ld4E5"
      },
      "source": [
        "\"\"\"\n",
        "This code could:\n",
        "\n",
        "1. convert cell parameters to cell vectors\n",
        "\n",
        "\n",
        "\"\"\"\n",
        "\n",
        "\n",
        "\n",
        "import math\n",
        "a = 1\n",
        "b = 1\n",
        "c = 1\n",
        "\n",
        "alpha = math.pi/2\n",
        "beta = math.pi/2\n",
        "gamma = math.pi*(2/3)\n",
        "\n",
        "def cellvectors(a,b,c,alpha,beta,gamma):\n",
        "    x1 = a\n",
        "    y1 = 0\n",
        "    z1 = 0\n",
        "    x2 = b*math.cos(gamma)\n",
        "    y2 = b*math.sin(gamma)\n",
        "    z2 = 0\n",
        "    x3 = c*math.cos(beta)\n",
        "    y3 = c*(math.cos(alpha)- math.cos(gamma)*math.cos(beta))/math.sin(gamma)\n",
        "    z3 = (b*b*math.sin(beta)*math.sin(beta) - y3*y3)**(0.5)\n",
        "\n",
        "    return [[x1,y1,z1],[x2,y2,z2],[x3,y3,z3]]\n",
        "\n",
        "\n",
        "\n",
        "\n",
        "\n",
        "\n",
        "print(cellvectors(a,b,c,alpha,beta,gamma))"
      ],
      "execution_count": null,
      "outputs": []
    }
  ]
}